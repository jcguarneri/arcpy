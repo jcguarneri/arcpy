{
 "cells": [
  {
   "cell_type": "code",
   "execution_count": null,
   "metadata": {},
   "outputs": [],
   "source": [
    "from arcgis.gis import GIS\n",
    "from IPython.display import display\n",
    "from getpass import getpass"
   ]
  },
  {
   "cell_type": "code",
   "execution_count": null,
   "metadata": {},
   "outputs": [],
   "source": [
    "source_password = getpass()\n",
    "target_password = getpass()\n",
    "source = GIS(profile = \"PortalProd\")\n",
    "target = GIS(profile = \"NewPortalTemp\")\n",
    "target_admin_username = 'gisadmin'"
   ]
  },
  {
   "cell_type": "code",
   "execution_count": null,
   "metadata": {},
   "outputs": [],
   "source": [
    "#!esri_ & !admin\n",
    "source_users = source.users.search('!esri_ & !admin')\n",
    "for user in source_users:\n",
    "    print(user.username + \"\\t:\\t\" + str(user.role))"
   ]
  },
  {
   "cell_type": "code",
   "execution_count": null,
   "metadata": {},
   "outputs": [],
   "source": [
    "len(source_users)"
   ]
  },
  {
   "cell_type": "code",
   "execution_count": null,
   "metadata": {},
   "outputs": [],
   "source": [
    "def copy_user(target_portal, source_user, password):\n",
    "    # See if the user has firstName and lastName properties\n",
    "    try:\n",
    "        first_name = source_user.firstName\n",
    "        last_name = source_user.lastName\n",
    "    except:\n",
    "        # if not, split the fullName\n",
    "        full_name = source_user.fullName\n",
    "        first_name = full_name.split()[0]\n",
    "        try:\n",
    "            last_name = full_name.split()[1]\n",
    "        except:\n",
    "            last_name = 'NoLastName'\n",
    "\n",
    "    try:\n",
    "        # create user\n",
    "        target_user = target_portal.users.create(source_user.username, password, first_name, \n",
    "                                                 last_name, source_user.email, \n",
    "                                                 source_user.description, source_user.role)\n",
    "\n",
    "        # update user properties\n",
    "        target_user.update(source_user.access, source_user.preferredView,\n",
    "                           source_user.description, source_user.tags, \n",
    "                           source_user.get_thumbnail_link(),\n",
    "                           culture=source_user.culture, region=source_user.region)\n",
    "        return target_user\n",
    "    \n",
    "    except Exception as Ex:\n",
    "        print(str(Ex))\n",
    "        print(\"Unable to create user \"+ source_user.username)\n",
    "        return None"
   ]
  },
  {
   "cell_type": "code",
   "execution_count": null,
   "metadata": {},
   "outputs": [],
   "source": [
    "for user in source_users:\n",
    "    print(\"Creating user: \" + user.username)\n",
    "    copy_user(target, user, 'TestPassword@123')"
   ]
  },
  {
   "cell_type": "code",
   "execution_count": null,
   "metadata": {},
   "outputs": [],
   "source": [
    "target_users = target.users.search()\n",
    "target_users"
   ]
  },
  {
   "cell_type": "code",
   "execution_count": null,
   "metadata": {},
   "outputs": [],
   "source": [
    "# filter out system created groups\n",
    "source_groups = source.groups.search(\"!owner:esri_* & !Basemaps\")\n",
    "source_groups"
   ]
  },
  {
   "cell_type": "code",
   "execution_count": null,
   "metadata": {},
   "outputs": [],
   "source": [
    "target_groups = target.groups.search(\"!owner:esri_* & !Basemaps\")\n",
    "target_groups"
   ]
  },
  {
   "cell_type": "code",
   "execution_count": null,
   "metadata": {},
   "outputs": [],
   "source": [
    "for tg in target_groups:\n",
    "    for sg in source_groups:\n",
    "        if sg.title == tg.title and (not tg.owner.startswith('esri_')):\n",
    "            print(\"Cleaning up group {} in target Portal...\".format(tg.title))\n",
    "            tg.delete()\n",
    "            break"
   ]
  },
  {
   "cell_type": "code",
   "execution_count": null,
   "metadata": {},
   "outputs": [],
   "source": [
    "import tempfile\n",
    "\n",
    "GROUP_COPY_PROPERTIES = ['title', 'description', 'tags', 'snippet', 'phone',\n",
    "                         'access', 'isInvitationOnly']\n",
    "\n",
    "def copy_group(target, source, source_group):\n",
    "    \n",
    "    with tempfile.TemporaryDirectory() as temp_dir:\n",
    "        try:\n",
    "            target_group = {}\n",
    "\n",
    "            for property_name in GROUP_COPY_PROPERTIES:\n",
    "                target_group[property_name] = source_group[property_name]\n",
    "\n",
    "            if source_group['access'] == 'org' and target.properties['portalMode'] == 'singletenant':\n",
    "                #cloning from ArcGIS Online to ArcGIS Enterprise\n",
    "                target_group['access'] = 'public'\n",
    "\n",
    "            elif source_group['access'] == 'public'\\\n",
    "                 and source.properties['portalMode'] == 'singletenant'\\\n",
    "                 and target.properties['portalMode'] == 'multitenant'\\\n",
    "                 and 'id' in target.properties:\n",
    "                    #cloning from ArcGIS Enterprise to ArcGIS Online org\n",
    "                    target_group['access'] = 'org'\n",
    "\n",
    "            # Download the thumbnail (if one exists)\n",
    "            thumbnail_file = None\n",
    "            if 'thumbnail' in group:\n",
    "                target_group['thumbnail'] = group.download_thumbnail(temp_dir)\n",
    "\n",
    "            # Create the group in the target portal\n",
    "            copied_group = target.groups.create_from_dict(target_group)\n",
    "\n",
    "            # Reassign all groups to correct owners, add users, and find shared items\n",
    "            members = group.get_members()\n",
    "            if not members['owner'] == target_admin_username:\n",
    "                copied_group.reassign_to(members['owner'])\n",
    "            if members['users']:\n",
    "                copied_group.add_users(members['users'])\n",
    "            return copied_group\n",
    "        except:\n",
    "            print(\"Error creating \" + source_group['title'])"
   ]
  },
  {
   "cell_type": "code",
   "execution_count": null,
   "metadata": {},
   "outputs": [],
   "source": [
    "from IPython.display import display\n",
    "for group in source_groups:\n",
    "    target_group = copy_group(target, source, group)\n",
    "    if target_group:\n",
    "        display(target_group)"
   ]
  },
  {
   "cell_type": "code",
   "execution_count": null,
   "metadata": {},
   "outputs": [],
   "source": [
    "target_groups = target.groups.search()\n",
    "target_groups"
   ]
  },
  {
   "cell_type": "code",
   "execution_count": null,
   "metadata": {},
   "outputs": [],
   "source": [
    "group1 = target_groups[0]\n",
    "group1.get_members()"
   ]
  },
  {
   "cell_type": "code",
   "execution_count": null,
   "metadata": {},
   "outputs": [],
   "source": [
    "source_items_by_id = {}\n",
    "for user in source_users:\n",
    "    num_items = 0\n",
    "    num_folders = 0\n",
    "    print(\"Collecting item ids for {}\".format(user.username), end=\"\\t\\t\")\n",
    "    user_content = user.items()\n",
    "    \n",
    "    # Get item ids from root folder first\n",
    "    for item in user_content:\n",
    "        num_items += 1\n",
    "        source_items_by_id[item.itemid] = item \n",
    "    \n",
    "    # Get item ids from each of the folders next\n",
    "    folders = user.folders\n",
    "    for folder in folders:\n",
    "        num_folders += 1\n",
    "        folder_items = user.items(folder=folder['title'])\n",
    "        for item in folder_items:\n",
    "            num_items += 1\n",
    "            source_items_by_id[item.itemid] = item\n",
    "    \n",
    "    print(\"Number of folders {} # Number of items {}\".format(str(num_folders), str(num_items)))"
   ]
  },
  {
   "cell_type": "code",
   "execution_count": null,
   "metadata": {},
   "outputs": [],
   "source": [
    "source_items_by_id"
   ]
  },
  {
   "cell_type": "code",
   "execution_count": null,
   "metadata": {},
   "outputs": [],
   "source": [
    "for group in source_groups:\n",
    "    #iterate through each item shared to the source group\n",
    "    for group_item in group.content():\n",
    "        try:\n",
    "            #get the item\n",
    "            item = source_items_by_id[group_item.itemid]\n",
    "            if item is not None:\n",
    "                if not 'groups'in item:\n",
    "                    item['groups'] = []\n",
    "                \n",
    "                #assign the target portal's corresponding group's name\n",
    "                item['groups'].append(group['title'])\n",
    "        except:\n",
    "            print(\"Cannot find item : \" + group_item.itemid)"
   ]
  },
  {
   "cell_type": "code",
   "execution_count": null,
   "metadata": {},
   "outputs": [],
   "source": [
    "for key in source_items_by_id.keys():\n",
    "    item = source_items_by_id[key]\n",
    "    print(\"\\n{:40s}\".format(item.title), end = \" # \")\n",
    "    if 'groups' in item:\n",
    "        print(item.access, end = \" # \")\n",
    "        print(item.groups, end = \"\")"
   ]
  },
  {
   "cell_type": "code",
   "execution_count": null,
   "metadata": {},
   "outputs": [],
   "source": [
    "TEXT_BASED_ITEM_TYPES = frozenset(['Web Map', 'Feature Service', 'Map Service','Web Scene',\n",
    "                                   'Image Service', 'Feature Collection', \n",
    "                                   'Feature Collection Template',\n",
    "                                   'Web Mapping Application', 'Mobile Application', \n",
    "                                   'Symbol Set', 'Color Set',\n",
    "                                   'Windows Viewer Configuration'])\n",
    "\n",
    "FILE_BASED_ITEM_TYPES = frozenset(['File Geodatabase','CSV', 'Image', 'KML', 'Locator Package',\n",
    "                                  'Map Document', 'Shapefile', 'Microsoft Word', 'PDF',\n",
    "                                  'Microsoft Powerpoint', 'Microsoft Excel', 'Layer Package',\n",
    "                                  'Mobile Map Package', 'Geoprocessing Package', 'Scene Package',\n",
    "                                  'Tile Package', 'Vector Tile Package'])\n",
    "\n",
    "ITEM_COPY_PROPERTIES = ['title', 'type', 'typeKeywords', 'description', 'tags',\n",
    "                        'snippet', 'extent', 'spatialReference', 'name',\n",
    "                        'accessInformation', 'licenseInfo', 'culture', 'url']"
   ]
  },
  {
   "cell_type": "code",
   "execution_count": null,
   "metadata": {},
   "outputs": [],
   "source": [
    "def copy_item(target, source_item):\n",
    "    try:\n",
    "        with tempfile.TemporaryDirectory() as temp_dir:\n",
    "            item_properties = {}\n",
    "            for property_name in ITEM_COPY_PROPERTIES:\n",
    "                item_properties[property_name] = source_item[property_name]\n",
    "\n",
    "            data_file = None\n",
    "            \n",
    "            if source_item.type in TEXT_BASED_ITEM_TYPES:\n",
    "                # If its a text-based item, then read the text and add it to the request.\n",
    "                text = source_item.get_data(False)\n",
    "                item_properties['text'] = text\n",
    "            \n",
    "            elif source_item.type in FILE_BASED_ITEM_TYPES:\n",
    "                # download data and add to the request as a file\n",
    "                data_file = source_item.download(temp_dir)\n",
    "\n",
    "            thumbnail_file = source_item.download_thumbnail(temp_dir)\n",
    "            metadata_file = source_item.download_metadata(temp_dir)\n",
    "\n",
    "            #find item's owner\n",
    "            source_item_owner = source.users.search(source_item.owner)[0]\n",
    "            \n",
    "            #find item's folder\n",
    "            item_folder_titles = [f['title'] for f in source_item_owner.folders \n",
    "                                  if f['id'] == source_item.ownerFolder]\n",
    "            folder_name = None\n",
    "            if len(item_folder_titles) > 0:\n",
    "                folder_name = item_folder_titles[0]\n",
    "\n",
    "            #if folder does not exist for target user, create it\n",
    "            if folder_name:\n",
    "                target_user = target.users.search(source_item.owner)[0]\n",
    "                target_user_folders = [f['title'] for f in target_user.folders\n",
    "                                       if f['title'] == folder_name]\n",
    "                if len(target_user_folders) == 0:\n",
    "                    #create the folder\n",
    "                    target.content.create_folder(folder_name, source_item.owner)\n",
    "            \n",
    "            # Add the item to the target portal, assign owner and folder\n",
    "            target_item = target.content.add(item_properties, data_file, thumbnail_file, \n",
    "                                             metadata_file, source_item.owner, folder_name)\n",
    "            \n",
    "            #Set sharing (privacy) information\n",
    "            share_everyone = source_item.access == 'public'\n",
    "            share_org = source_item.access in ['org', 'public']\n",
    "            share_groups = []\n",
    "            if source_item.access == 'shared':\n",
    "                share_groups = source_item.groups\n",
    "            \n",
    "            target_item.share(share_everyone, share_org, share_groups)\n",
    "            \n",
    "            return target_item\n",
    "        \n",
    "    except Exception as copy_ex:\n",
    "        print(\"\\tError copying \" + source_item.title)\n",
    "        print(\"\\t\" + str(copy_ex))\n",
    "        return None"
   ]
  },
  {
   "cell_type": "code",
   "execution_count": null,
   "metadata": {},
   "outputs": [],
   "source": [
    "source_target_itemId_map = {}\n",
    "for key in source_items_by_id.keys():\n",
    "    source_item = source_items_by_id[key]\n",
    "\n",
    "    print(\"Copying {} \\tfor\\t {}\".format(source_item.title, source_item.owner))\n",
    "    target_item = copy_item(target, source_item)\n",
    "    if target_item:\n",
    "        source_target_itemId_map[key] = target_item.itemid\n",
    "    else:\n",
    "        source_target_itemId_map[key] = None"
   ]
  },
  {
   "cell_type": "code",
   "execution_count": null,
   "metadata": {},
   "outputs": [],
   "source": [
    "user1 = target.users.search()[2]\n",
    "user1"
   ]
  },
  {
   "cell_type": "code",
   "execution_count": null,
   "metadata": {},
   "outputs": [],
   "source": [
    "user1.items()"
   ]
  },
  {
   "cell_type": "code",
   "execution_count": null,
   "metadata": {},
   "outputs": [],
   "source": [
    "user1.folders"
   ]
  },
  {
   "cell_type": "code",
   "execution_count": null,
   "metadata": {},
   "outputs": [],
   "source": [
    "RELATIONSHIP_TYPES = frozenset(['Map2Service', 'WMA2Code',\n",
    "                                'Map2FeatureCollection', 'MobileApp2Code', 'Service2Data',\n",
    "                                'Service2Service'])"
   ]
  },
  {
   "cell_type": "code",
   "execution_count": null,
   "metadata": {},
   "outputs": [],
   "source": [
    "source_target_itemId_map"
   ]
  },
  {
   "cell_type": "code",
   "execution_count": null,
   "metadata": {},
   "outputs": [],
   "source": [
    "for key in source_target_itemId_map.keys():\n",
    "    source_item = source_items_by_id[key]\n",
    "    target_itemid = source_target_itemId_map[key]\n",
    "    target_item = target.content.get(target_itemid)\n",
    "\n",
    "    print(source_item.title + \" # \" + source_item.type)\n",
    "    for relationship in RELATIONSHIP_TYPES:\n",
    "        try:\n",
    "            source_related_items = source_item.related_items(relationship)\n",
    "            for source_related_item in source_related_items:\n",
    "                print(\"\\t\\t\" + source_related_item.title + \" # \" + \n",
    "                      source_related_item.type +\"\\t## \" + relationship)\n",
    "\n",
    "                #establish same relationship amongst target items\n",
    "                print(\"\\t\\t\" + \"establishing relationship in target portal\", end=\" \")\n",
    "                target_related_itemid = source_target_itemId_map[source_related_item.itemid]\n",
    "                target_related_item = target.content.get(target_related_itemid)\n",
    "                status = target_item.add_relationship(target_related_item, relationship)\n",
    "                print(str(status))\n",
    "        except Exception as rel_ex:\n",
    "            print(\"\\t\\t Error when checking for \" + relationship + \" : \" + str(rel_ex))\n",
    "            continue"
   ]
  }
 ],
 "metadata": {
  "kernelspec": {
   "display_name": "Python 3",
   "language": "python",
   "name": "python3"
  },
  "language_info": {
   "codemirror_mode": {
    "name": "ipython",
    "version": 3
   },
   "file_extension": ".py",
   "mimetype": "text/x-python",
   "name": "python",
   "nbconvert_exporter": "python",
   "pygments_lexer": "ipython3",
   "version": "3.6.8"
  }
 },
 "nbformat": 4,
 "nbformat_minor": 2
}
